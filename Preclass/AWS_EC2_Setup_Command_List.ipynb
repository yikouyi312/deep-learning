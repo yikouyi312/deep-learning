{
  "nbformat": 4,
  "nbformat_minor": 0,
  "metadata": {
    "colab": {
      "name": "AWS-EC2-Setup-Command-List.ipynb",
      "provenance": [],
      "collapsed_sections": [
        "O0EBMXqDsCal",
        "EmO2-mBhsNWw"
      ]
    },
    "kernelspec": {
      "name": "python3",
      "display_name": "Python 3"
    },
    "language_info": {
      "name": "python"
    }
  },
  "cells": [
    {
      "cell_type": "markdown",
      "source": [
        "# Part 3 Video"
      ],
      "metadata": {
        "id": "O0EBMXqDsCal"
      }
    },
    {
      "cell_type": "markdown",
      "source": [
        "## EBS Setup Command"
      ],
      "metadata": {
        "id": "Lz-SFme-taaq"
      }
    },
    {
      "cell_type": "code",
      "source": [
        "sudo mkfs -t xfs /dev/nvme1n1\n",
        "sudo mkdir ~/data\n",
        "sudo mount /dev/nvme1n1 ~/data\n",
        "cd ~/data\n",
        "sudo chmod go+rw .\n",
        "cd .."
      ],
      "metadata": {
        "id": "YQkGsITqtaaq"
      },
      "execution_count": null,
      "outputs": []
    },
    {
      "cell_type": "markdown",
      "source": [
        "## EFS Setup Command"
      ],
      "metadata": {
        "id": "5rkG_nW5taar"
      }
    },
    {
      "cell_type": "code",
      "execution_count": null,
      "metadata": {
        "id": "hLokNUw4taar"
      },
      "outputs": [],
      "source": [
        "mkdir ~/efs\n",
        "FS_ID=file-system-id REGION=us-east-2 && sudo mount -t nfs4 -o nfsvers=4.1,rsize=1048576,wsize=1048576,hard,timeo=600,retrans=2,noresvport $FS_ID.efs.$REGION.amazonaws.com:/ ~/efs\n",
        "cd ~/efs\n",
        "sudo chmod go+rw ."
      ]
    },
    {
      "cell_type": "markdown",
      "source": [
        "## Miniconda3"
      ],
      "metadata": {
        "id": "Hkgd_7c6taar"
      }
    },
    {
      "cell_type": "code",
      "source": [
        "wget downloadlink\n",
        "sha256sum filename\n",
        "bash Miniconda3-py38_latest-Linux-x86_64.sh\n",
        "pip install kaggle\n",
        "conda install jupyter\n",
        "\n",
        "conda clean -a"
      ],
      "metadata": {
        "id": "GVxcwj7ftaar"
      },
      "execution_count": null,
      "outputs": []
    },
    {
      "cell_type": "markdown",
      "source": [
        "## Code to generate hashed password"
      ],
      "metadata": {
        "id": "KHcjdPQ3taar"
      }
    },
    {
      "cell_type": "code",
      "source": [
        "from notebook.auth import passwd\n",
        "my_password = \"password\" # set your desired password here\n",
        "hashed_password = passwd(passphrase=my_password, algorithm='sha256')\n",
        "print(hashed_password) # copy the hashed password\n"
      ],
      "metadata": {
        "id": "5HBMlZ_vtaar"
      },
      "execution_count": null,
      "outputs": []
    },
    {
      "cell_type": "markdown",
      "source": [
        "##  Kaggle"
      ],
      "metadata": {
        "id": "txha_15wtaas"
      }
    },
    {
      "cell_type": "code",
      "source": [
        "mkdir ~/.kaggle"
      ],
      "metadata": {
        "id": "g8lVwav9taas"
      },
      "execution_count": null,
      "outputs": []
    },
    {
      "cell_type": "code",
      "source": [
        "{\"username\":\"your-username \",\"key\":\"your-key\"}"
      ],
      "metadata": {
        "id": "yk9MQRLetaas"
      },
      "execution_count": null,
      "outputs": []
    },
    {
      "cell_type": "markdown",
      "source": [
        "## jupyter_server_config.py"
      ],
      "metadata": {
        "id": "9Izky5uptaas"
      }
    },
    {
      "cell_type": "code",
      "source": [
        "mkdir ~/.jupyter"
      ],
      "metadata": {
        "id": "C0i1QnJItaas"
      },
      "execution_count": null,
      "outputs": []
    },
    {
      "cell_type": "code",
      "source": [
        "c.ServerApp.ip = '*' # bind to any network interface\n",
        "c.ServerApp.password = u'sha256:bcd259ccf...<your hashed password here>'\n",
        "c.ServerApp.open_browser = False\n",
        "c.ServerApp.port = 8888 # or any other ports you'd like"
      ],
      "metadata": {
        "id": "DQ2RMBXDtaas"
      },
      "execution_count": null,
      "outputs": []
    },
    {
      "cell_type": "markdown",
      "source": [
        "## Tar environment and configs"
      ],
      "metadata": {
        "id": "Vf2P9T9ctaas"
      }
    },
    {
      "cell_type": "code",
      "source": [
        "tar -cf ~/efs/dl-env.tar ./miniconda3 .kaggle .jupyter .conda .bashrc"
      ],
      "metadata": {
        "id": "h8i5hbATtaas"
      },
      "execution_count": null,
      "outputs": []
    },
    {
      "cell_type": "markdown",
      "source": [
        "## Untar in new instance"
      ],
      "metadata": {
        "id": "l2mBQJ5Xtaas"
      }
    },
    {
      "cell_type": "code",
      "source": [
        "tar -xf efs/dl-env.tar # will run for ~2 minutes\n",
        "source .bashrc"
      ],
      "metadata": {
        "id": "sgCzawY8taat"
      },
      "execution_count": null,
      "outputs": []
    },
    {
      "cell_type": "markdown",
      "source": [
        "## Update the changes"
      ],
      "metadata": {
        "id": "57MXzGHdtaat"
      }
    },
    {
      "cell_type": "code",
      "source": [
        "tar -uvf efs/dl-env.tar miniconda3/ .conda # assuming environment update"
      ],
      "metadata": {
        "id": "5iyXW7y4taat"
      },
      "execution_count": null,
      "outputs": []
    },
    {
      "cell_type": "markdown",
      "source": [
        "# Part 4 Video"
      ],
      "metadata": {
        "id": "EmO2-mBhsNWw"
      }
    },
    {
      "cell_type": "markdown",
      "source": [
        "## Screen Command"
      ],
      "metadata": {
        "id": "5j7FCSK6sxyA"
      }
    },
    {
      "cell_type": "code",
      "source": [
        "# create a new session\n",
        "screen -S\n",
        "screen -S <session_name> \n",
        "\n",
        "# detach from current running session\n",
        "# Ctrl+A and then D\n",
        "\n",
        "# attach to a session\n",
        "screen -r\n",
        "screen -r <session_name>"
      ],
      "metadata": {
        "id": "TJwck5c_sPqR"
      },
      "execution_count": null,
      "outputs": []
    },
    {
      "cell_type": "markdown",
      "source": [
        "## Jupyter Lab"
      ],
      "metadata": {
        "id": "nGXr1yrctQtz"
      }
    },
    {
      "cell_type": "code",
      "source": [
        "jupyter lab"
      ],
      "metadata": {
        "id": "P0M20iXdtSiN"
      },
      "execution_count": null,
      "outputs": []
    }
  ]
}