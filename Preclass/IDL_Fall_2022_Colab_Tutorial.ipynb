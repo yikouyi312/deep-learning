{
  "cells": [
    {
      "cell_type": "markdown",
      "metadata": {
        "id": "tvLUgpxJs4Oy"
      },
      "source": [
        "### What is Google Colab?\n",
        "\n",
        "Google Colab is tool from Google Research that provides a jupyter-notebook style Python3 execution environment in your browser"
      ]
    },
    {
      "cell_type": "markdown",
      "metadata": {
        "id": "iWK20YPwtMna"
      },
      "source": [
        "### Creating a New Notebook\n",
        "\n",
        "1. Go to https://colab.research.google.com/\n",
        "2. Select \"New notebook\" at the bottom, OR select an existing notebook from the various sources (Google Drive / GitHub / Upload)"
      ]
    },
    {
      "cell_type": "markdown",
      "metadata": {
        "id": "Y2X4BtABtqS6"
      },
      "source": [
        "### Setting up the processor and run-time environment\n",
        "\n",
        "1. Click on \"Runtime\" in the toolbar\n",
        "2. Select \"Change runtime type\"\n",
        "3. Select the appropriate option"
      ]
    },
    {
      "cell_type": "markdown",
      "metadata": {
        "id": "Wy--jnFSuElI"
      },
      "source": [
        "### Interacting with the shell, installing **libraries**"
      ]
    },
    {
      "cell_type": "code",
      "execution_count": 1,
      "metadata": {
        "colab": {
          "base_uri": "https://localhost:8080/"
        },
        "id": "wpLTHjlNwETM",
        "outputId": "b9b07161-b723-4586-e9b1-1b80464e17b9"
      },
      "outputs": [
        {
          "name": "stdout",
          "output_type": "stream",
          "text": [
            "Requirement already satisfied: torch in /opt/miniconda3/envs/dl/lib/python3.7/site-packages (1.2.0)\n",
            "Requirement already satisfied: numpy in /opt/miniconda3/envs/dl/lib/python3.7/site-packages (from torch) (1.16.4)\n"
          ]
        }
      ],
      "source": [
        "! pip install torch"
      ]
    },
    {
      "cell_type": "code",
      "execution_count": 2,
      "metadata": {
        "colab": {
          "base_uri": "https://localhost:8080/"
        },
        "id": "8LoDfNOg0rjw",
        "outputId": "bac10beb-0cbb-472f-88d8-ce6b5072f413"
      },
      "outputs": [
        {
          "name": "stdout",
          "output_type": "stream",
          "text": [
            "/bin/bash: nvidia-smi: command not found\n"
          ]
        }
      ],
      "source": [
        "! nvidia-smi "
      ]
    },
    {
      "cell_type": "markdown",
      "metadata": {
        "id": "C-W4f96vuQ1G"
      },
      "source": [
        "### Connecting to Google Drive"
      ]
    },
    {
      "cell_type": "code",
      "execution_count": null,
      "metadata": {
        "colab": {
          "base_uri": "https://localhost:8080/"
        },
        "id": "qzceJXQ2uNV0",
        "outputId": "2c868166-7960-4f1b-9e20-56b097d1faa6"
      },
      "outputs": [],
      "source": [
        "from google.colab import drive\n",
        "\n",
        "drive.mount(\"/content/drive\", force_remount=True)"
      ]
    },
    {
      "cell_type": "code",
      "execution_count": 17,
      "metadata": {
        "id": "HUox2pQjrtJm"
      },
      "outputs": [
        {
          "name": "stdout",
          "output_type": "stream",
          "text": [
            "rm: /content/drive/MyDrive/IDL-Fall-2022-Colab-Tutorial: No such file or directory\n"
          ]
        }
      ],
      "source": [
        "!rm -r /content/drive/MyDrive/IDL-Fall-2022-Colab-Tutorial"
      ]
    },
    {
      "cell_type": "code",
      "execution_count": 8,
      "metadata": {
        "id": "dTSYIu_brxA1"
      },
      "outputs": [
        {
          "ename": "FileNotFoundError",
          "evalue": "[Errno 2] No such file or directory: '/content/drive/MyDrive/IDL-Fall-2022-Colab-Tutorial'",
          "output_type": "error",
          "traceback": [
            "\u001b[0;31m---------------------------------------------------------------------------\u001b[0m",
            "\u001b[0;31mFileNotFoundError\u001b[0m                         Traceback (most recent call last)",
            "\u001b[0;32m/var/folders/xt/8gwvhs7x03n4r2rqq1nw5z540000gn/T/ipykernel_91148/3011635094.py\u001b[0m in \u001b[0;36m<module>\u001b[0;34m\u001b[0m\n\u001b[1;32m      1\u001b[0m \u001b[0;32mimport\u001b[0m \u001b[0mos\u001b[0m\u001b[0;34m\u001b[0m\u001b[0;34m\u001b[0m\u001b[0m\n\u001b[0;32m----> 2\u001b[0;31m \u001b[0mos\u001b[0m\u001b[0;34m.\u001b[0m\u001b[0mmkdir\u001b[0m\u001b[0;34m(\u001b[0m\u001b[0;34m\"/content/drive/MyDrive/IDL-Fall-2022-Colab-Tutorial\"\u001b[0m\u001b[0;34m)\u001b[0m\u001b[0;34m\u001b[0m\u001b[0;34m\u001b[0m\u001b[0m\n\u001b[0m",
            "\u001b[0;31mFileNotFoundError\u001b[0m: [Errno 2] No such file or directory: '/content/drive/MyDrive/IDL-Fall-2022-Colab-Tutorial'"
          ]
        }
      ],
      "source": [
        "import os\n",
        "os.mkdir(\"/content/drive/MyDrive/IDL-Fall-2022-Colab-Tutorial\")"
      ]
    },
    {
      "cell_type": "code",
      "execution_count": 9,
      "metadata": {
        "id": "-UaYgL8zrGAl"
      },
      "outputs": [
        {
          "name": "stdout",
          "output_type": "stream",
          "text": [
            "ls: /content/drive/MyDrive/IDL-Fall-2022-Colab-Tutorial: No such file or directory\n"
          ]
        }
      ],
      "source": [
        "! ls /content/drive/MyDrive/IDL-Fall-2022-Colab-Tutorial"
      ]
    },
    {
      "cell_type": "markdown",
      "metadata": {
        "id": "VftCjLuUu12o"
      },
      "source": [
        "### Writing files to, and loading from, Google Drive"
      ]
    },
    {
      "cell_type": "code",
      "execution_count": 10,
      "metadata": {
        "id": "nTO-409mubrB"
      },
      "outputs": [],
      "source": [
        "import pandas as pd"
      ]
    },
    {
      "cell_type": "code",
      "execution_count": 11,
      "metadata": {
        "id": "H5-NQflXU9mb"
      },
      "outputs": [],
      "source": [
        "dummy_data = {\"col_1\":[1,2,3], \"col_2\":[10,20,4],}\n",
        "df = pd.DataFrame(dummy_data)"
      ]
    },
    {
      "cell_type": "code",
      "execution_count": 12,
      "metadata": {
        "colab": {
          "base_uri": "https://localhost:8080/",
          "height": 142
        },
        "id": "-yg97Cp9u83O",
        "outputId": "51125dbd-caff-44df-b643-1afd0310e5f1"
      },
      "outputs": [
        {
          "data": {
            "text/html": [
              "<div>\n",
              "<style scoped>\n",
              "    .dataframe tbody tr th:only-of-type {\n",
              "        vertical-align: middle;\n",
              "    }\n",
              "\n",
              "    .dataframe tbody tr th {\n",
              "        vertical-align: top;\n",
              "    }\n",
              "\n",
              "    .dataframe thead th {\n",
              "        text-align: right;\n",
              "    }\n",
              "</style>\n",
              "<table border=\"1\" class=\"dataframe\">\n",
              "  <thead>\n",
              "    <tr style=\"text-align: right;\">\n",
              "      <th></th>\n",
              "      <th>col_1</th>\n",
              "      <th>col_2</th>\n",
              "    </tr>\n",
              "  </thead>\n",
              "  <tbody>\n",
              "    <tr>\n",
              "      <th>0</th>\n",
              "      <td>1</td>\n",
              "      <td>10</td>\n",
              "    </tr>\n",
              "    <tr>\n",
              "      <th>1</th>\n",
              "      <td>2</td>\n",
              "      <td>20</td>\n",
              "    </tr>\n",
              "    <tr>\n",
              "      <th>2</th>\n",
              "      <td>3</td>\n",
              "      <td>4</td>\n",
              "    </tr>\n",
              "  </tbody>\n",
              "</table>\n",
              "</div>"
            ],
            "text/plain": [
              "   col_1  col_2\n",
              "0      1     10\n",
              "1      2     20\n",
              "2      3      4"
            ]
          },
          "execution_count": 12,
          "metadata": {},
          "output_type": "execute_result"
        }
      ],
      "source": [
        "df.head()"
      ]
    },
    {
      "cell_type": "code",
      "execution_count": null,
      "metadata": {
        "id": "id4DiB59vYpR"
      },
      "outputs": [],
      "source": [
        "df.to_csv(\"/content/drive/MyDrive/IDL-Fall-2022-Colab-Tutorial/test.csv\", index=False)"
      ]
    },
    {
      "cell_type": "code",
      "execution_count": 14,
      "metadata": {
        "colab": {
          "base_uri": "https://localhost:8080/"
        },
        "id": "8OwtVQU55hYV",
        "outputId": "194ff006-5308-4263-c430-0a77bf96cfa3"
      },
      "outputs": [
        {
          "name": "stdout",
          "output_type": "stream",
          "text": [
            "ls: /content/drive/MyDrive/IDL-Fall-2022-Colab-Tutorial: No such file or directory\n"
          ]
        }
      ],
      "source": [
        "! ls /content/drive/MyDrive/IDL-Fall-2022-Colab-Tutorial"
      ]
    },
    {
      "cell_type": "code",
      "execution_count": null,
      "metadata": {
        "colab": {
          "base_uri": "https://localhost:8080/",
          "height": 173
        },
        "id": "03LmaaCzvHMV",
        "outputId": "702f7b5a-bab7-4897-b2b5-2c0eea4f3504"
      },
      "outputs": [
        {
          "data": {
            "text/html": [
              "\n",
              "  <div id=\"df-8d75ec11-68de-44d5-b16e-8acbafca8030\">\n",
              "    <div class=\"colab-df-container\">\n",
              "      <div>\n",
              "<style scoped>\n",
              "    .dataframe tbody tr th:only-of-type {\n",
              "        vertical-align: middle;\n",
              "    }\n",
              "\n",
              "    .dataframe tbody tr th {\n",
              "        vertical-align: top;\n",
              "    }\n",
              "\n",
              "    .dataframe thead th {\n",
              "        text-align: right;\n",
              "    }\n",
              "</style>\n",
              "<table border=\"1\" class=\"dataframe\">\n",
              "  <thead>\n",
              "    <tr style=\"text-align: right;\">\n",
              "      <th></th>\n",
              "      <th>col_2</th>\n",
              "    </tr>\n",
              "    <tr>\n",
              "      <th>col_1</th>\n",
              "      <th></th>\n",
              "    </tr>\n",
              "  </thead>\n",
              "  <tbody>\n",
              "    <tr>\n",
              "      <th>1</th>\n",
              "      <td>10</td>\n",
              "    </tr>\n",
              "    <tr>\n",
              "      <th>2</th>\n",
              "      <td>20</td>\n",
              "    </tr>\n",
              "    <tr>\n",
              "      <th>3</th>\n",
              "      <td>4</td>\n",
              "    </tr>\n",
              "  </tbody>\n",
              "</table>\n",
              "</div>\n",
              "      <button class=\"colab-df-convert\" onclick=\"convertToInteractive('df-8d75ec11-68de-44d5-b16e-8acbafca8030')\"\n",
              "              title=\"Convert this dataframe to an interactive table.\"\n",
              "              style=\"display:none;\">\n",
              "        \n",
              "  <svg xmlns=\"http://www.w3.org/2000/svg\" height=\"24px\"viewBox=\"0 0 24 24\"\n",
              "       width=\"24px\">\n",
              "    <path d=\"M0 0h24v24H0V0z\" fill=\"none\"/>\n",
              "    <path d=\"M18.56 5.44l.94 2.06.94-2.06 2.06-.94-2.06-.94-.94-2.06-.94 2.06-2.06.94zm-11 1L8.5 8.5l.94-2.06 2.06-.94-2.06-.94L8.5 2.5l-.94 2.06-2.06.94zm10 10l.94 2.06.94-2.06 2.06-.94-2.06-.94-.94-2.06-.94 2.06-2.06.94z\"/><path d=\"M17.41 7.96l-1.37-1.37c-.4-.4-.92-.59-1.43-.59-.52 0-1.04.2-1.43.59L10.3 9.45l-7.72 7.72c-.78.78-.78 2.05 0 2.83L4 21.41c.39.39.9.59 1.41.59.51 0 1.02-.2 1.41-.59l7.78-7.78 2.81-2.81c.8-.78.8-2.07 0-2.86zM5.41 20L4 18.59l7.72-7.72 1.47 1.35L5.41 20z\"/>\n",
              "  </svg>\n",
              "      </button>\n",
              "      \n",
              "  <style>\n",
              "    .colab-df-container {\n",
              "      display:flex;\n",
              "      flex-wrap:wrap;\n",
              "      gap: 12px;\n",
              "    }\n",
              "\n",
              "    .colab-df-convert {\n",
              "      background-color: #E8F0FE;\n",
              "      border: none;\n",
              "      border-radius: 50%;\n",
              "      cursor: pointer;\n",
              "      display: none;\n",
              "      fill: #1967D2;\n",
              "      height: 32px;\n",
              "      padding: 0 0 0 0;\n",
              "      width: 32px;\n",
              "    }\n",
              "\n",
              "    .colab-df-convert:hover {\n",
              "      background-color: #E2EBFA;\n",
              "      box-shadow: 0px 1px 2px rgba(60, 64, 67, 0.3), 0px 1px 3px 1px rgba(60, 64, 67, 0.15);\n",
              "      fill: #174EA6;\n",
              "    }\n",
              "\n",
              "    [theme=dark] .colab-df-convert {\n",
              "      background-color: #3B4455;\n",
              "      fill: #D2E3FC;\n",
              "    }\n",
              "\n",
              "    [theme=dark] .colab-df-convert:hover {\n",
              "      background-color: #434B5C;\n",
              "      box-shadow: 0px 1px 3px 1px rgba(0, 0, 0, 0.15);\n",
              "      filter: drop-shadow(0px 1px 2px rgba(0, 0, 0, 0.3));\n",
              "      fill: #FFFFFF;\n",
              "    }\n",
              "  </style>\n",
              "\n",
              "      <script>\n",
              "        const buttonEl =\n",
              "          document.querySelector('#df-8d75ec11-68de-44d5-b16e-8acbafca8030 button.colab-df-convert');\n",
              "        buttonEl.style.display =\n",
              "          google.colab.kernel.accessAllowed ? 'block' : 'none';\n",
              "\n",
              "        async function convertToInteractive(key) {\n",
              "          const element = document.querySelector('#df-8d75ec11-68de-44d5-b16e-8acbafca8030');\n",
              "          const dataTable =\n",
              "            await google.colab.kernel.invokeFunction('convertToInteractive',\n",
              "                                                     [key], {});\n",
              "          if (!dataTable) return;\n",
              "\n",
              "          const docLinkHtml = 'Like what you see? Visit the ' +\n",
              "            '<a target=\"_blank\" href=https://colab.research.google.com/notebooks/data_table.ipynb>data table notebook</a>'\n",
              "            + ' to learn more about interactive tables.';\n",
              "          element.innerHTML = '';\n",
              "          dataTable['output_type'] = 'display_data';\n",
              "          await google.colab.output.renderOutput(dataTable, element);\n",
              "          const docLink = document.createElement('div');\n",
              "          docLink.innerHTML = docLinkHtml;\n",
              "          element.appendChild(docLink);\n",
              "        }\n",
              "      </script>\n",
              "    </div>\n",
              "  </div>\n",
              "  "
            ],
            "text/plain": [
              "       col_2\n",
              "col_1       \n",
              "1         10\n",
              "2         20\n",
              "3          4"
            ]
          },
          "execution_count": 12,
          "metadata": {},
          "output_type": "execute_result"
        }
      ],
      "source": [
        "df_load = pd.read_csv(\"/content/drive/MyDrive/IDL-Fall-2022-Colab-Tutorial/test.csv\", index_col=\"col_1\")\n",
        "df_load.head()"
      ]
    },
    {
      "cell_type": "code",
      "execution_count": null,
      "metadata": {
        "id": "oMwN0FuHwMRT"
      },
      "outputs": [],
      "source": [
        "import torch\n",
        "import torch.nn as nn\n",
        "\n",
        "class MLP(nn.Module):\n",
        "\n",
        "    def __init__(self, size):\n",
        "        super(MLP, self).__init__()\n",
        "        \n",
        "        self.layers = []\n",
        "        for in_dim, out_dim in zip(size[:-2], size[1:-1]):\n",
        "          self.layers.extend([\n",
        "              nn.Linear(in_dim, out_dim),\n",
        "              nn.LeakyReLU(negative_slope=0.02),\n",
        "              nn.BatchNorm1d(out_dim),\n",
        "              nn.Dropout(0.5),\n",
        "          ])\n",
        "        self.layers.append(nn.Linear(size[-2], size[-1]))\n",
        "        self.model = nn.Sequential(*self.layers)\n",
        "        self.model.apply(self.init_param)\n",
        "\n",
        "    def init_param(self, param):\n",
        "      if type(param) == nn.Linear:\n",
        "        nn.init.xavier_uniform_(param.weight)\n",
        "\n",
        "    def forward(self, x):\n",
        "      return self.model(x)"
      ]
    },
    {
      "cell_type": "code",
      "execution_count": null,
      "metadata": {
        "id": "aubdJfnhwpqb"
      },
      "outputs": [],
      "source": [
        "model = MLP([40, 2048, 512, 256, 71])"
      ]
    },
    {
      "cell_type": "code",
      "execution_count": null,
      "metadata": {
        "id": "M1FxGKcPw8uE"
      },
      "outputs": [],
      "source": [
        "MODEL_SAVE_PATH = \"/content/drive/MyDrive/IDL-Fall-2022-Colab-Tutorial/dummy_model.pt\"\n",
        "\n",
        "torch.save({\n",
        "  'epoch': 10,\n",
        "  'model_state_dict': model.state_dict(),\n",
        "  'loss': 0.001,\n",
        "}, MODEL_SAVE_PATH)"
      ]
    },
    {
      "cell_type": "code",
      "execution_count": null,
      "metadata": {
        "colab": {
          "base_uri": "https://localhost:8080/"
        },
        "id": "kwK7hgTCxPpQ",
        "outputId": "6b3e5510-c0e0-4a00-d123-ad2f2bd8f03f"
      },
      "outputs": [
        {
          "name": "stdout",
          "output_type": "stream",
          "text": [
            "dummy_model.pt\ttest.csv\n"
          ]
        }
      ],
      "source": [
        "! ls /content/drive/MyDrive/IDL-Fall-2022-Colab-Tutorial"
      ]
    },
    {
      "cell_type": "code",
      "execution_count": null,
      "metadata": {
        "colab": {
          "base_uri": "https://localhost:8080/"
        },
        "id": "tI2bn0RPxRoS",
        "outputId": "0b4cc010-d6fa-42d6-b9a4-f42caa583e98"
      },
      "outputs": [
        {
          "name": "stdout",
          "output_type": "stream",
          "text": [
            "epoch 10 , loss 0.001\n"
          ]
        },
        {
          "data": {
            "text/plain": [
              "<All keys matched successfully>"
            ]
          },
          "execution_count": 17,
          "metadata": {},
          "output_type": "execute_result"
        }
      ],
      "source": [
        "saved = torch.load(MODEL_SAVE_PATH)\n",
        "\n",
        "print(\"epoch\", saved[\"epoch\"], \", loss\", saved[\"loss\"])\n",
        "\n",
        "\n",
        "new_model = MLP([40, 2048, 512, 256, 71])\n",
        "new_model.load_state_dict(saved[\"model_state_dict\"])"
      ]
    },
    {
      "cell_type": "markdown",
      "metadata": {
        "id": "j0_s1fhgyK2-"
      },
      "source": [
        "### Connecting to Kaggle"
      ]
    },
    {
      "cell_type": "code",
      "execution_count": null,
      "metadata": {
        "colab": {
          "base_uri": "https://localhost:8080/"
        },
        "id": "mU_-aTXUx4cI",
        "outputId": "8c1f4476-5763-489d-afca-912a6d47e063"
      },
      "outputs": [
        {
          "name": "stdout",
          "output_type": "stream",
          "text": [
            "Looking in indexes: https://pypi.org/simple, https://us-python.pkg.dev/colab-wheels/public/simple/\n",
            "Requirement already satisfied: kaggle==1.5.12 in /usr/local/lib/python3.7/dist-packages (1.5.12)\n",
            "Requirement already satisfied: python-dateutil in /usr/local/lib/python3.7/dist-packages (from kaggle==1.5.12) (2.8.2)\n",
            "Requirement already satisfied: python-slugify in /usr/local/lib/python3.7/dist-packages (from kaggle==1.5.12) (6.1.2)\n",
            "Requirement already satisfied: tqdm in /usr/local/lib/python3.7/dist-packages (from kaggle==1.5.12) (4.64.0)\n",
            "Requirement already satisfied: six>=1.10 in /usr/local/lib/python3.7/dist-packages (from kaggle==1.5.12) (1.15.0)\n",
            "Requirement already satisfied: urllib3 in /usr/local/lib/python3.7/dist-packages (from kaggle==1.5.12) (1.24.3)\n",
            "Requirement already satisfied: certifi in /usr/local/lib/python3.7/dist-packages (from kaggle==1.5.12) (2022.6.15)\n",
            "Requirement already satisfied: requests in /usr/local/lib/python3.7/dist-packages (from kaggle==1.5.12) (2.23.0)\n",
            "Requirement already satisfied: text-unidecode>=1.3 in /usr/local/lib/python3.7/dist-packages (from python-slugify->kaggle==1.5.12) (1.3)\n",
            "Requirement already satisfied: chardet<4,>=3.0.2 in /usr/local/lib/python3.7/dist-packages (from requests->kaggle==1.5.12) (3.0.4)\n",
            "Requirement already satisfied: idna<3,>=2.5 in /usr/local/lib/python3.7/dist-packages (from requests->kaggle==1.5.12) (2.10)\n",
            "Looking in indexes: https://pypi.org/simple, https://us-python.pkg.dev/colab-wheels/public/simple/\n",
            "Collecting kaggle\n",
            "  Downloading kaggle-1.5.12.tar.gz (58 kB)\n",
            "\u001b[K     |████████████████████████████████| 58 kB 5.1 MB/s \n",
            "\u001b[?25hBuilding wheels for collected packages: kaggle\n",
            "  Building wheel for kaggle (setup.py) ... \u001b[?25l\u001b[?25hdone\n",
            "  Created wheel for kaggle: filename=kaggle-1.5.12-py3-none-any.whl size=73051 sha256=6d55667f4b8692311efa1b6e252a8b36e167403f197bbb3dbeca7a6250977000\n",
            "  Stored in directory: /root/.cache/pip/wheels/62/d6/58/5853130f941e75b2177d281eb7e44b4a98ed46dd155f556dc5\n",
            "Successfully built kaggle\n",
            "Installing collected packages: kaggle\n",
            "  Attempting uninstall: kaggle\n",
            "    Found existing installation: kaggle 1.5.12\n",
            "    Uninstalling kaggle-1.5.12:\n",
            "      Successfully uninstalled kaggle-1.5.12\n",
            "Successfully installed kaggle-1.5.12\n",
            "kaggle.json\n",
            "- path is now set to: /content\n"
          ]
        }
      ],
      "source": [
        "import json\n",
        "\n",
        "TOKEN = {\"username\":\"adi1190\",\"key\":\"0e8420354eb320bbdd2f609d5723ee21\"}\n",
        "\n",
        "\n",
        "! pip install kaggle==1.5.12\n",
        "! mkdir -p .kaggle\n",
        "! mkdir -p /content & mkdir -p /content/.kaggle & mkdir -p /root/.kaggle/\n",
        "\n",
        "with open('/content/.kaggle/kaggle.json', 'w') as file:\n",
        "    json.dump(TOKEN, file)\n",
        "\n",
        "! pip install --upgrade --force-reinstall --no-deps kaggle\n",
        "! ls \"/content/.kaggle\"\n",
        "! chmod 600 /content/.kaggle/kaggle.json\n",
        "! cp /content/.kaggle/kaggle.json /root/.kaggle/\n",
        "\n",
        "! kaggle config set -n path -v /content"
      ]
    },
    {
      "cell_type": "code",
      "execution_count": null,
      "metadata": {
        "colab": {
          "base_uri": "https://localhost:8080/"
        },
        "id": "vEWLUJafygxW",
        "outputId": "847f2b7d-1158-4272-fd1e-db827a0b5f67"
      },
      "outputs": [
        {
          "name": "stdout",
          "output_type": "stream",
          "text": [
            "Downloading 11-785-fall-22-intro-to-colab.zip to /content/competitions/11-785-fall-22-intro-to-colab\n",
            "\r  0% 0.00/374 [00:00<?, ?B/s]\n",
            "\r100% 374/374 [00:00<00:00, 426kB/s]\n"
          ]
        }
      ],
      "source": [
        "! kaggle competitions download -c 11-785-fall-22-intro-to-colab"
      ]
    },
    {
      "cell_type": "code",
      "execution_count": null,
      "metadata": {
        "colab": {
          "base_uri": "https://localhost:8080/"
        },
        "id": "6VzkH75Xy07_",
        "outputId": "73120e1b-68b3-4c7a-c445-a9b04a04608d"
      },
      "outputs": [
        {
          "name": "stdout",
          "output_type": "stream",
          "text": [
            "Archive:  competitions/11-785-fall-22-intro-to-colab/11-785-fall-22-intro-to-colab.zip\n",
            "  inflating: sampleSubmission.csv    \n",
            "  inflating: train.csv               \n"
          ]
        }
      ],
      "source": [
        "! unzip competitions/11-785-fall-22-intro-to-colab/11-785-fall-22-intro-to-colab.zip"
      ]
    },
    {
      "cell_type": "code",
      "execution_count": null,
      "metadata": {
        "colab": {
          "base_uri": "https://localhost:8080/"
        },
        "id": "8qwMxg5tzCPw",
        "outputId": "1f66ce93-d4f5-475d-bcb4-c44c33999e20"
      },
      "outputs": [
        {
          "name": "stdout",
          "output_type": "stream",
          "text": [
            "100% 36.0/36.0 [00:03<00:00, 11.9B/s]\n",
            "Successfully submitted to 11-785 Fall 22 Intro to colab"
          ]
        }
      ],
      "source": [
        "! kaggle competitions submit -c 11-785-fall-22-intro-to-colab -f sampleSubmission.csv -m \"A test submission\""
      ]
    },
    {
      "cell_type": "markdown",
      "metadata": {
        "id": "BnL6h_RS0u6w"
      },
      "source": [
        "### Variable Inspector"
      ]
    },
    {
      "cell_type": "code",
      "execution_count": null,
      "metadata": {
        "id": "KHCSdoMu0xEn"
      },
      "outputs": [],
      "source": [
        "import numpy as np"
      ]
    },
    {
      "cell_type": "code",
      "execution_count": null,
      "metadata": {
        "id": "UGVygdEV0y2y"
      },
      "outputs": [],
      "source": [
        "array = np.ones((10, 10))"
      ]
    },
    {
      "cell_type": "markdown",
      "metadata": {
        "id": "UTwAlE6o2YU6"
      },
      "source": [
        "### Resetting the runtime"
      ]
    }
  ],
  "metadata": {
    "accelerator": "GPU",
    "colab": {
      "name": "IDL-Fall-2022-Colab-Tutorial.ipynb",
      "provenance": []
    },
    "gpuClass": "standard",
    "kernelspec": {
      "display_name": "Python 3.7.13 ('dl')",
      "language": "python",
      "name": "python3"
    },
    "language_info": {
      "codemirror_mode": {
        "name": "ipython",
        "version": 3
      },
      "file_extension": ".py",
      "mimetype": "text/x-python",
      "name": "python",
      "nbconvert_exporter": "python",
      "pygments_lexer": "ipython3",
      "version": "3.7.13"
    },
    "vscode": {
      "interpreter": {
        "hash": "ddb6ac1274766aae8d48ea24c2a86f46ae3ad795c594d0c816246e36b08c5206"
      }
    }
  },
  "nbformat": 4,
  "nbformat_minor": 0
}
