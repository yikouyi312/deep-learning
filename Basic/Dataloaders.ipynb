{
  "cells": [
    {
      "cell_type": "markdown",
      "metadata": {
        "id": "gK4aLhBA5vgN"
      },
      "source": [
        "# DataLoaders - Reading, Writing, Saving\n",
        "## Reading & Saving"
      ]
    },
    {
      "cell_type": "code",
      "execution_count": 2,
      "metadata": {
        "colab": {
          "base_uri": "https://localhost:8080/"
        },
        "id": "9AEFoKRnHqV9",
        "outputId": "0fa49c46-ff7c-4010-f3e3-85b9e6749eff"
      },
      "outputs": [
        {
          "name": "stdout",
          "output_type": "stream",
          "text": [
            "[[1. 1. 1.]\n",
            " [1. 1. 1.]\n",
            " [1. 1. 1.]]\n",
            "[list([0, 1]) list([2, 3, 4]) list([5, 6, 7, 8])]\n"
          ]
        }
      ],
      "source": [
        "import numpy as np\n",
        "\n",
        "# npy\n",
        "# saving as numpy array\n",
        "# creates a numpy array of ones of given sizse\n",
        "tmp_array = np.ones((3,3))\n",
        "# saves the passed numpy array with the passed name the current directory\n",
        "np.save(\"tmp_array.npy\", tmp_array)\n",
        "# np.load loads numpy arrays\n",
        "read_array = np.load(\"tmp_array.npy\")\n",
        "\n",
        "# Pickle is  used to help with serialiization\n",
        "# Here we have list of lists of different sizes which is converted to numpy array\n",
        "tmp_array_pkl = np.array([[0,1],[2,3,4],[5,6,7,8]], dtype=object)\n",
        "# The above has become a list of objects so to be able to save it we need to allow pickle\n",
        "np.save(\"tmp_array_pkl.npy\", tmp_array_pkl, allow_pickle=True)\n",
        "# We'll use numpy.load() but since are file is pickled we need to set allow_pickle=True\n",
        "read_array_pkl = np.load(\"tmp_array_pkl.npy\", allow_pickle=True)\n",
        "\n",
        "print(read_array)\n",
        "print(read_array_pkl)"
      ]
    },
    {
      "cell_type": "code",
      "execution_count": 3,
      "metadata": {
        "colab": {
          "base_uri": "https://localhost:8080/"
        },
        "id": "_n3kip7VK8qP",
        "outputId": "7a43cf6b-1dcf-416e-9638-d3db7c06c5ce"
      },
      "outputs": [
        {
          "name": "stdout",
          "output_type": "stream",
          "text": [
            "[[1. 1. 1.]\n",
            " [1. 1. 1.]\n",
            " [1. 1. 1.]]\n",
            "[list([0, 1]) list([2, 3, 4]) list([5, 6, 7, 8])]\n"
          ]
        }
      ],
      "source": [
        "# npz \n",
        "# npz file format is a zipped archive of files named after the variables they contain\n",
        "# In this case the variables are the two arrays we defined above\n",
        "np.savez('tmp.npz', tmp_array=tmp_array, tmp_array_pkl=tmp_array_pkl)\n",
        "# Again, set allow_pickle=True because one of them is pickled\n",
        "npz_data = np.load('tmp.npz', allow_pickle=True, encoding='bytes')\n",
        "# We access the specific variables using their names as keys\n",
        "read_array = npz_data['tmp_array']\n",
        "read_array_pkl = npz_data['tmp_array_pkl']\n",
        "\n",
        "print(read_array)\n",
        "print(read_array_pkl)"
      ]
    },
    {
      "cell_type": "code",
      "execution_count": null,
      "metadata": {
        "colab": {
          "base_uri": "https://localhost:8080/"
        },
        "id": "qIILXNgxK8zl",
        "outputId": "afeca24a-cf66-4832-ecf0-d6150effc7d9"
      },
      "outputs": [],
      "source": [
        "# csv\n",
        "# Useful in P2s, we'll be submitting csv files to kaggle\n",
        "import pandas as pd\n",
        "#Create a dataframe\n",
        "output = pd.DataFrame()\n",
        "# Set the column names as 'id' and 'label'\n",
        "output['id'] = np.array(range(10))\n",
        "output['label'] = np.array(range(10,20))\n",
        "print(output.head())"
      ]
    },
    {
      "cell_type": "code",
      "execution_count": null,
      "metadata": {
        "colab": {
          "base_uri": "https://localhost:8080/"
        },
        "id": "K32NDtxtWNZx",
        "outputId": "9350e548-d60d-4a8c-edf5-19dea4b03231"
      },
      "outputs": [
        {
          "name": "stdout",
          "output_type": "stream",
          "text": [
            "   id  label\n",
            "0   0     10\n",
            "1   1     11\n",
            "2   2     12\n",
            "3   3     13\n",
            "4   4     14\n"
          ]
        }
      ],
      "source": [
        "#saving the dataframe as a csv\n",
        "output.to_csv(\"submission.csv\", index = False)\n",
        "\n",
        "output_read = pd.read_csv(\"submission.csv\")\n",
        "print(output_read.head())"
      ]
    },
    {
      "cell_type": "markdown",
      "metadata": {
        "id": "WhM8EFRyHstP"
      },
      "source": [
        "## Custom Dataset & Dataloader"
      ]
    },
    {
      "cell_type": "code",
      "execution_count": null,
      "metadata": {
        "colab": {
          "base_uri": "https://localhost:8080/"
        },
        "id": "Q4xLCpiUscQl",
        "outputId": "b18edfde-3f86-4201-b826-63eff894fea6"
      },
      "outputs": [
        {
          "name": "stdout",
          "output_type": "stream",
          "text": [
            "xs values:  [0, 1, 2, 3, 4, 5, 6, 7, 8, 9]\n",
            "ys values:  [10, 11, 12, 13, 14, 15, 16, 17, 18, 19]\n"
          ]
        }
      ],
      "source": [
        "# We are creating a dummy dataset to understand Datasets and Dataloaders better\n",
        "# It's not neccessary for your dataset to target labels, for eg. self-supervised learning\n",
        "# For simplicity, int the following case we can assume xs to input and ys to be target\n",
        "xs = list(range(10))\n",
        "ys = list(range(10,20))\n",
        "print('xs values: ', xs)\n",
        "print('ys values: ', ys)"
      ]
    },
    {
      "cell_type": "code",
      "execution_count": null,
      "metadata": {
        "colab": {
          "base_uri": "https://localhost:8080/"
        },
        "id": "bOvoSj9yscDL",
        "outputId": "c17fd73b-7c6a-4dcd-b658-c64f70c0450a"
      },
      "outputs": [
        {
          "name": "stdout",
          "output_type": "stream",
          "text": [
            "<class 'zip'> zipped\n",
            "[(0, 10), (1, 11), (2, 12), (3, 13), (4, 14), (5, 15), (6, 16), (7, 17), (8, 18), (9, 19)] list of zipped\n",
            "(0, 10)\n"
          ]
        }
      ],
      "source": [
        "data = zip(xs, ys) # creates zip object\n",
        "print(type(data), \"zipped\")\n",
        "data = list(zip(xs,ys)) # creates a list of tuples\n",
        "print(data, \"list of zipped\")\n",
        "print(data[0]) # returns the tuple (x[0], y[0])"
      ]
    },
    {
      "cell_type": "code",
      "execution_count": null,
      "metadata": {
        "colab": {
          "base_uri": "https://localhost:8080/"
        },
        "id": "FUu9t0uuoJp6",
        "outputId": "d060980a-2b3d-4470-bff4-3b6dabcc9a26"
      },
      "outputs": [
        {
          "data": {
            "text/plain": [
              "10"
            ]
          },
          "execution_count": 30,
          "metadata": {},
          "output_type": "execute_result"
        }
      ],
      "source": [
        "len(data)"
      ]
    },
    {
      "cell_type": "code",
      "execution_count": null,
      "metadata": {
        "id": "ssoP34npsb1A"
      },
      "outputs": [],
      "source": [
        "from torch.utils.data import Dataset, DataLoader\n",
        "# Dataset class will have access to the data or contain the data\n",
        "# And will be used by the dataloader class to access parts of it\n",
        "# Dataloader will use it to create batches, process data etc.\n",
        "\n",
        "# torch.utils.data.Dataset is an abstract class representing a dataset. Your custom dataset should inherit Dataset and override the following methods:\n",
        "# __len__ so that len(dataset) returns the size of the dataset.\n",
        "# __getitem__ to support the indexing such that dataset[i] can be used to get ith sample.\n",
        "class MyDataset(Dataset):\n",
        "    #constructor\n",
        "    # In this case it contains the data\n",
        "    def __init__(self, xs, ys):\n",
        "        self.xs = xs\n",
        "        self.ys = ys\n",
        "    \n",
        "    #len()\n",
        "    # returns the length of the dataset\n",
        "    def __len__(self):\n",
        "        return len(self.xs)  #len(self.ys)\n",
        "    #[]\n",
        "    # returns the item at index i\n",
        "    def __getitem__(self, i):\n",
        "        return self.xs[i], self.ys[i]"
      ]
    },
    {
      "cell_type": "code",
      "execution_count": null,
      "metadata": {
        "colab": {
          "base_uri": "https://localhost:8080/"
        },
        "id": "qXVsfXfZswm0",
        "outputId": "4595972d-75e0-44bd-93dd-8e0a23f729c9"
      },
      "outputs": [
        {
          "name": "stdout",
          "output_type": "stream",
          "text": [
            "(0, 10)\n",
            "(0, 10)\n"
          ]
        }
      ],
      "source": [
        "# Create an instance of MyDataset class\n",
        "dataset = MyDataset(xs, ys)\n",
        "print(dataset[0]) # returns the tuple (x[2], y[2])\n",
        "# This is basically same as \n",
        "print(dataset.__getitem__(0))\n",
        "# Which the dataloader needs"
      ]
    },
    {
      "cell_type": "code",
      "execution_count": null,
      "metadata": {
        "colab": {
          "base_uri": "https://localhost:8080/"
        },
        "id": "eJWGIftas42A",
        "outputId": "e922f13e-146a-48b8-d6f5-6af2111696f3"
      },
      "outputs": [
        {
          "name": "stdout",
          "output_type": "stream",
          "text": [
            "tensor([0]) tensor([10])\n",
            "tensor([1]) tensor([11])\n",
            "tensor([2]) tensor([12])\n",
            "tensor([3]) tensor([13])\n",
            "tensor([4]) tensor([14])\n",
            "tensor([5]) tensor([15])\n",
            "tensor([6]) tensor([16])\n",
            "tensor([7]) tensor([17])\n",
            "tensor([8]) tensor([18])\n",
            "tensor([9]) tensor([19])\n"
          ]
        }
      ],
      "source": [
        "# Let's lookt at different ways of creating the Dataloader object using the Dataloader class\n",
        "from torch.utils.data import DataLoader\n",
        "#batch size of 1, so we the size of x and y is 1 and no shuffling\n",
        "for x, y in DataLoader(dataset):\n",
        "    print(x,y)"
      ]
    },
    {
      "cell_type": "code",
      "execution_count": null,
      "metadata": {
        "colab": {
          "base_uri": "https://localhost:8080/"
        },
        "id": "3bU-x17Bs7aP",
        "outputId": "dd68d366-473a-428c-9abd-d07c1a07c2bf"
      },
      "outputs": [
        {
          "name": "stdout",
          "output_type": "stream",
          "text": [
            "tensor([0, 1]) tensor([10, 11])\n",
            "tensor([2, 3]) tensor([12, 13])\n",
            "tensor([4, 5]) tensor([14, 15])\n",
            "tensor([6, 7]) tensor([16, 17])\n",
            "tensor([8, 9]) tensor([18, 19])\n"
          ]
        }
      ],
      "source": [
        "# batch size of 2, so x and y both have a size of 2\n",
        "for x, y in DataLoader(dataset, batch_size=2):\n",
        "    print(x,y)"
      ]
    },
    {
      "cell_type": "code",
      "execution_count": null,
      "metadata": {
        "colab": {
          "base_uri": "https://localhost:8080/"
        },
        "id": "EyIyOs_dtEW-",
        "outputId": "47758fd1-a874-4d76-a002-6614d7334d25"
      },
      "outputs": [
        {
          "name": "stdout",
          "output_type": "stream",
          "text": [
            "index:  0 x,y: tensor([4, 3]) tensor([14, 13])\n",
            "index:  1 x,y: tensor([0, 6]) tensor([10, 16])\n",
            "index:  2 x,y: tensor([2, 5]) tensor([12, 15])\n",
            "index:  3 x,y: tensor([1, 8]) tensor([11, 18])\n",
            "index:  4 x,y: tensor([9, 7]) tensor([19, 17])\n"
          ]
        }
      ],
      "source": [
        "# enumerate - this works the same way as the loops above except that it gives an index as well\n",
        "# shuffle is True so we get shuffled xs and ys\n",
        "for index, (x, y) in enumerate(DataLoader(dataset, batch_size=2, shuffle=True)):\n",
        "    print(\"index: \", index, \"x,y:\", x,y)"
      ]
    },
    {
      "cell_type": "code",
      "execution_count": null,
      "metadata": {
        "id": "pfIdnr6YYa3A"
      },
      "outputs": [],
      "source": [
        "# Training\n",
        "# Create an object of the Dataloader Class\n",
        "train_loader_args = dict(shuffle=True, batch_size=2, num_workers=2, pin_memory=True) \n",
        "train_loader = DataLoader(dataset, **train_loader_args)"
      ]
    },
    {
      "cell_type": "code",
      "execution_count": null,
      "metadata": {
        "colab": {
          "base_uri": "https://localhost:8080/"
        },
        "id": "QlTFJs4g17NQ",
        "outputId": "f265c4cc-c253-4bb6-ff8e-440caa117cb2"
      },
      "outputs": [
        {
          "name": "stdout",
          "output_type": "stream",
          "text": [
            "index:  0 x,y: tensor([5, 7]) tensor([15, 17])\n",
            "index:  1 x,y: tensor([1, 6]) tensor([11, 16])\n",
            "index:  2 x,y: tensor([9, 8]) tensor([19, 18])\n",
            "index:  3 x,y: tensor([4, 2]) tensor([14, 12])\n",
            "index:  4 x,y: tensor([0, 3]) tensor([10, 13])\n"
          ]
        }
      ],
      "source": [
        "# enumerate\n",
        "for index, (x, y) in enumerate(train_loader):\n",
        "    print(\"index: \", index, \"x,y:\", x,y)"
      ]
    },
    {
      "cell_type": "markdown",
      "metadata": {
        "id": "TyJ8oG-0106b"
      },
      "source": [
        "## Torch Dataset & Dataloader"
      ]
    },
    {
      "cell_type": "code",
      "execution_count": null,
      "metadata": {
        "id": "gibYD_zK42gc"
      },
      "outputs": [],
      "source": [
        "import torch\n",
        "from torch.utils.data import Dataset\n",
        "from torchvision import datasets\n",
        "from torchvision.transforms import ToTensor\n",
        "import matplotlib.pyplot as plt\n",
        "\n",
        "# FashionMNIST dataset from TorchVision\n",
        "# Each image of size 28x28\n",
        "# Torchvision provides the dataset and the dataset class\n",
        "# We create a trainig_data object and a test_data object\n",
        "training_data = datasets.FashionMNIST(\n",
        "    root=\"data\",\n",
        "    train=True,\n",
        "    download=True,\n",
        "    transform=ToTensor()\n",
        ")\n",
        "# test_data object \n",
        "test_data = datasets.FashionMNIST(\n",
        "    root=\"data\",\n",
        "    train=False,\n",
        "    download=True,\n",
        "    transform=ToTensor()\n",
        ")"
      ]
    },
    {
      "cell_type": "code",
      "execution_count": null,
      "metadata": {
        "colab": {
          "base_uri": "https://localhost:8080/",
          "height": 482
        },
        "id": "Z8WnGm675PLi",
        "outputId": "f89184d5-d198-43c6-9d93-ff66b0f334e0"
      },
      "outputs": [
        {
          "data": {
            "image/png": "[encoded data removed]",
            "text/plain": [
              "<Figure size 576x576 with 9 Axes>"
            ]
          },
          "metadata": {
            "needs_background": "light"
          },
          "output_type": "display_data"
        }
      ],
      "source": [
        "# Visualizing the objects\n",
        "labels_map = {\n",
        "    0: \"T-Shirt\",\n",
        "    1: \"Trouser\",\n",
        "    2: \"Pullover\",\n",
        "    3: \"Dress\",\n",
        "    4: \"Coat\",\n",
        "    5: \"Sandal\",\n",
        "    6: \"Shirt\",\n",
        "    7: \"Sneaker\",\n",
        "    8: \"Bag\",\n",
        "    9: \"Ankle Boot\"\n",
        "}\n",
        "figure = plt.figure(figsize=(8, 8))\n",
        "cols, rows = 3, 3\n",
        "for i in range(1, cols * rows + 1):\n",
        "    sample_idx = torch.randint(len(training_data), size=(1,)).item()\n",
        "    img, label = training_data[sample_idx]\n",
        "    figure.add_subplot(rows, cols, i)\n",
        "    plt.title(labels_map[label])\n",
        "    plt.axis(\"off\")\n",
        "    plt.imshow(img.squeeze(), cmap=\"gray\")\n",
        "plt.show()"
      ]
    },
    {
      "cell_type": "code",
      "execution_count": null,
      "metadata": {
        "id": "BENUTMfE8qUB"
      },
      "outputs": [],
      "source": [
        "from torch.utils.data import DataLoader\n",
        "# We got the dataset objects using the pytorch dataset class for MNIST dataset\n",
        "# Now we pass that object to the Dataloader constructor\n",
        "# Two separate dataloader for training and testing \n",
        "train_dataloader = DataLoader(training_data, batch_size=64, shuffle=True) # shuffle True for training\n",
        "test_dataloader = DataLoader(test_data, batch_size=64, shuffle=False) # shuffle False for testing"
      ]
    },
    {
      "cell_type": "code",
      "execution_count": null,
      "metadata": {
        "colab": {
          "base_uri": "https://localhost:8080/",
          "height": 317
        },
        "id": "aqe-LKwp8e_S",
        "outputId": "75e51e6c-35d5-4d79-b1aa-07d8326cdc22"
      },
      "outputs": [
        {
          "name": "stdout",
          "output_type": "stream",
          "text": [
            "Feature batch shape: torch.Size([64, 1, 28, 28])\n",
            "Labels batch shape: torch.Size([64])\n"
          ]
        },
        {
          "data": {
            "image/png": "[encoded data removed]",
            "text/plain": [
              "<Figure size 432x288 with 1 Axes>"
            ]
          },
          "metadata": {
            "needs_background": "light"
          },
          "output_type": "display_data"
        },
        {
          "name": "stdout",
          "output_type": "stream",
          "text": [
            "Label: 6\n"
          ]
        }
      ],
      "source": [
        "# Display image and label.\n",
        "# use iter and next\n",
        "# iter returns an iterable for the object and next helps iterate it\n",
        "train_features, train_labels = next(iter(train_dataloader))\n",
        "print(f\"Feature batch shape: {train_features.size()}\")\n",
        "print(f\"Labels batch shape: {train_labels.size()}\")\n",
        "img = train_features[0].squeeze()\n",
        "label = train_labels[0]\n",
        "plt.imshow(img, cmap=\"gray\")\n",
        "plt.show()\n",
        "print(f\"Label: {label}\")"
      ]
    },
    {
      "cell_type": "markdown",
      "metadata": {
        "id": "byUFrzff3Hjx"
      },
      "source": [
        "## Custom Image Dataset"
      ]
    },
    {
      "cell_type": "code",
      "execution_count": null,
      "metadata": {
        "id": "oJ6zb_PKPIWT"
      },
      "outputs": [],
      "source": [
        "#Save MNIST images in zip and labels in annotations file\n",
        "# Create a dataset for demonstration\n",
        "train_images_custom = []\n",
        "train_labels_custom = []\n",
        "# Create a list of numpy arrays\n",
        "for i in range(10):\n",
        "  train_images_custom.append(training_data[i][0].numpy())\n",
        "  train_labels_custom.append(training_data[i][1])\n",
        "# Convert the list to a numpy array\n",
        "images_npy = np.array(train_images_custom)\n",
        "np.save(\"images_npy.npy\", images_npy)\n",
        "\n",
        "labels_npy = np.array(train_labels_custom)\n",
        "np.save(\"labels_npy.npy\", labels_npy)\n"
      ]
    },
    {
      "cell_type": "code",
      "execution_count": null,
      "metadata": {
        "id": "EepabNTy5WK3"
      },
      "outputs": [],
      "source": [
        "# Create the custom dataset class, as explained before, the dataset class should\n",
        "# have a constructor(__init__), length(__len__(self)) &  get item(__getitem__(self,index))\n",
        "# Do as much processing as you can in the init function since the getitem is called many times \n",
        "# Collate helps in working with batches, we'll go deeper into this in the future homeworks\n",
        "class CustomImageDataset(Dataset):\n",
        "    def __init__(self, images_npy, labels_npy):\n",
        "        self.imgs = np.load(images_npy)\n",
        "        self.img_labels = np.load(labels_npy)\n",
        "        \n",
        "    def __len__(self):\n",
        "        return len(self.img_labels)\n",
        "\n",
        "    def __getitem__(self, idx):\n",
        "        image = self.imgs[idx]\n",
        "        label = self.img_labels[idx]\n",
        "        return image, label\n",
        "\n",
        "    def collate_fn(self,batch):\n",
        "      # get the training and test from the batch\n",
        "      xs, ys = zip(*batch)\n",
        "      # Process it\n",
        "      #For demo - padding border\n",
        "      xs = [np.pad(x_i, ((0,0),(20, 20), (20, 20)), constant_values=0) for x_i in list(xs) ] \n",
        "      return tuple(xs), ys\n"
      ]
    },
    {
      "cell_type": "code",
      "execution_count": null,
      "metadata": {
        "colab": {
          "base_uri": "https://localhost:8080/",
          "height": 285
        },
        "id": "TWxaBNizTHLv",
        "outputId": "87e4b4b6-b39c-4b1d-bb38-4d07f05020e9"
      },
      "outputs": [
        {
          "data": {
            "image/png": "[encoded data removed]",
            "text/plain": [
              "<Figure size 432x288 with 1 Axes>"
            ]
          },
          "metadata": {
            "needs_background": "light"
          },
          "output_type": "display_data"
        },
        {
          "name": "stdout",
          "output_type": "stream",
          "text": [
            "Label: 3\n"
          ]
        }
      ],
      "source": [
        "# Create an object of the custom dataset class\n",
        "train_data_custom = CustomImageDataset(\"images_npy.npy\", \"labels_npy.npy\")\n",
        "# create a dict of arguments, another way of passing arguments\n",
        "# Used the custom collate_fn\n",
        "train_args = dict(batch_size=2, shuffle=True, collate_fn= train_data_custom.collate_fn)\n",
        "# pass the arguments\n",
        "train_dataloader_custom = DataLoader(train_data_custom, **train_args)\n",
        "\n",
        "# Display image and label.\n",
        "train_features, train_labels = next(iter(train_dataloader_custom))\n",
        "img = train_features[0].squeeze()\n",
        "label = train_labels[0]\n",
        "plt.imshow(img, cmap=\"gray\")\n",
        "plt.show()\n",
        "print(f\"Label: {label}\")"
      ]
    },
    {
      "cell_type": "code",
      "execution_count": null,
      "metadata": {
        "id": "IjtRHoSsQ2lf"
      },
      "outputs": [],
      "source": [
        "\"\"\"Some references:\n",
        "\n",
        "    1. Numpy save and load - https://numpy.org/doc/stable/reference/generated/numpy.save.html\n",
        "                             https://numpy.org/doc/stable/reference/generated/numpy.load.html\n",
        "                             https://numpy.org/doc/stable/reference/generated/numpy.savez.html#numpy.savez\n",
        "\n",
        "    2. Pandas read and save csv - https://pandas.pydata.org/docs/reference/api/pandas.read_csv.html\n",
        "                                  https://pandas.pydata.org/docs/reference/api/pandas.DataFrame.to_csv.html\n",
        "\n",
        "    2. Pytorch Datasets and Datloader - https://pytorch.org/tutorials/beginner/basics/data_tutorial.html\n",
        "                                        https://pytorch.org/docs/stable/data.html\n",
        "\n",
        "\"\"\""
      ]
    }
  ],
  "metadata": {
    "colab": {
      "collapsed_sections": [],
      "name": "recitation0d_Dataloaders.ipynb",
      "provenance": []
    },
    "kernelspec": {
      "display_name": "Python 3.7.13 ('dl')",
      "language": "python",
      "name": "python3"
    },
    "language_info": {
      "codemirror_mode": {
        "name": "ipython",
        "version": 3
      },
      "file_extension": ".py",
      "mimetype": "text/x-python",
      "name": "python",
      "nbconvert_exporter": "python",
      "pygments_lexer": "ipython3",
      "version": "3.7.13"
    },
    "vscode": {
      "interpreter": {
        "hash": "ddb6ac1274766aae8d48ea24c2a86f46ae3ad795c594d0c816246e36b08c5206"
      }
    }
  },
  "nbformat": 4,
  "nbformat_minor": 0
}
